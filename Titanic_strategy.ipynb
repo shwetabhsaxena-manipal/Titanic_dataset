{
 "cells": [
  {
   "cell_type": "markdown",
   "id": "52b838f4",
   "metadata": {},
   "source": [
    "# Titanic dataset\n",
    "\n",
    "We will be predicting the likelihood of survival of a passenger with certain features, in the event of Titanic, using data from the passengers who survived.\n",
    "\n",
    "We will use the Titannic dataset procured by Kaggle competition, having the files \"train.csv\" used for training and testing purposes, using logistic regression with regularization. The file \"Titanic.txt\" holds the information regarding the features of the dataset."
   ]
  },
  {
   "cell_type": "code",
   "execution_count": 1,
   "id": "46db302a",
   "metadata": {},
   "outputs": [
    {
     "name": "stdout",
     "output_type": "stream",
     "text": [
      "Here are the first five training examples printed out:\n",
      "   PassengerId  Survived  Pclass  \\\n",
      "0            1         0       3   \n",
      "1            2         1       1   \n",
      "2            3         1       3   \n",
      "3            4         1       1   \n",
      "4            5         0       3   \n",
      "\n",
      "                                                Name     Sex   Age  SibSp  \\\n",
      "0                            Braund, Mr. Owen Harris    male  22.0      1   \n",
      "1  Cumings, Mrs. John Bradley (Florence Briggs Th...  female  38.0      1   \n",
      "2                             Heikkinen, Miss. Laina  female  26.0      0   \n",
      "3       Futrelle, Mrs. Jacques Heath (Lily May Peel)  female  35.0      1   \n",
      "4                           Allen, Mr. William Henry    male  35.0      0   \n",
      "\n",
      "   Parch            Ticket     Fare Cabin Embarked  \n",
      "0      0         A/5 21171   7.2500   NaN        S  \n",
      "1      0          PC 17599  71.2833   C85        C  \n",
      "2      0  STON/O2. 3101282   7.9250   NaN        S  \n",
      "3      0            113803  53.1000  C123        S  \n",
      "4      0            373450   8.0500   NaN        S  \n",
      "The dimensions of this dataset are: (891, 12)\n"
     ]
    }
   ],
   "source": [
    "#import relevant libraries that will be used\n",
    "\n",
    "import numpy as np\n",
    "import pandas as pd\n",
    "import matplotlib.pyplot as plt\n",
    "\n",
    "data = pd.read_csv(\"train.csv\")\n",
    "print(\"Here are the first five training examples printed out:\")\n",
    "print(data.head())\n",
    "print(\"The dimensions of this dataset are:\", data.shape)"
   ]
  },
  {
   "cell_type": "code",
   "execution_count": 2,
   "id": "d44cd04c",
   "metadata": {},
   "outputs": [
    {
     "name": "stdout",
     "output_type": "stream",
     "text": [
      "Checking to see which features have missing values:\n",
      "\n",
      "Age was found to have missing values of the amount 177\n",
      "Cabin was found to have missing values of the amount 687\n",
      "Embarked was found to have missing values of the amount 2\n"
     ]
    }
   ],
   "source": [
    "#Now we see that that we have 891 training examples. Now we have to verify if there are any missing values and which features\n",
    "#have them and how much.\n",
    "\n",
    "print(\"Checking to see which features have missing values:\\n\")\n",
    "for columnName, columnValue in data.iteritems():\n",
    "    if(data[columnName].isnull().any()):\n",
    "        print(columnName, \"was found to have missing values of the amount\", data[columnName].isnull().sum())"
   ]
  },
  {
   "cell_type": "code",
   "execution_count": 3,
   "id": "3c277832",
   "metadata": {},
   "outputs": [],
   "source": [
    "#It is obvious that some of the features are irrelevant to the regression analysis, namely PassengerId, Name and Ticket\n",
    "del data['PassengerId'], data['Name'], data['Ticket']"
   ]
  },
  {
   "cell_type": "code",
   "execution_count": 4,
   "id": "6da069d6",
   "metadata": {},
   "outputs": [
    {
     "name": "stdout",
     "output_type": "stream",
     "text": [
      "   Survived  Pclass     Sex   Age  SibSp  Parch     Fare Cabin Embarked\n",
      "0         0       3    male  22.0      1      0   7.2500     0        S\n",
      "1         1       1  female  38.0      1      0  71.2833   C85        C\n",
      "2         1       3  female  26.0      0      0   7.9250     0        S\n",
      "3         1       1  female  35.0      1      0  53.1000  C123        S\n",
      "4         0       3    male  35.0      0      0   8.0500     0        S\n",
      "<class 'pandas.core.frame.DataFrame'>\n",
      "RangeIndex: 891 entries, 0 to 890\n",
      "Data columns (total 9 columns):\n",
      " #   Column    Non-Null Count  Dtype  \n",
      "---  ------    --------------  -----  \n",
      " 0   Survived  891 non-null    int64  \n",
      " 1   Pclass    891 non-null    int64  \n",
      " 2   Sex       891 non-null    object \n",
      " 3   Age       891 non-null    float64\n",
      " 4   SibSp     891 non-null    int64  \n",
      " 5   Parch     891 non-null    int64  \n",
      " 6   Fare      891 non-null    float64\n",
      " 7   Cabin     891 non-null    object \n",
      " 8   Embarked  891 non-null    object \n",
      "dtypes: float64(2), int64(4), object(3)\n",
      "memory usage: 62.8+ KB\n"
     ]
    }
   ],
   "source": [
    "#Even though the 'Age' and 'Cabin' have 177 and 687 values missing respectively, they are essential in determining whether a\n",
    "#passenger survived or not. For 'Age' we will choose to replace the NaN values will the mean of all ages [this ensures that\n",
    "#the missing values won't interfere in the learning model's output] and the 'Cabin' NaN value will be changed to '0' in count\n",
    "#which means for any test example, if cabin value is missing, it will not be used as a feature while computing the output.\n",
    "#For 'Embarked' only two missing values are there, we can just replace the NaN values with 0 as well.\n",
    "\n",
    "data['Age'] = data['Age'].fillna(data['Age'].mean())\n",
    "data['Cabin'] = data['Cabin'].fillna('0')\n",
    "data['Embarked'] = data['Embarked'].fillna('0')\n",
    "\n",
    "print(data.head())\n",
    "data.info()"
   ]
  },
  {
   "cell_type": "code",
   "execution_count": 5,
   "id": "5962af34",
   "metadata": {},
   "outputs": [
    {
     "name": "stdout",
     "output_type": "stream",
     "text": [
      "The number of changes made to the dataset: 3\n",
      "<class 'pandas.core.frame.DataFrame'>\n",
      "RangeIndex: 891 entries, 0 to 890\n",
      "Data columns (total 9 columns):\n",
      " #   Column    Non-Null Count  Dtype  \n",
      "---  ------    --------------  -----  \n",
      " 0   Survived  891 non-null    int64  \n",
      " 1   Pclass    891 non-null    int64  \n",
      " 2   Sex       891 non-null    int64  \n",
      " 3   Age       891 non-null    float64\n",
      " 4   SibSp     891 non-null    int64  \n",
      " 5   Parch     891 non-null    int64  \n",
      " 6   Fare      891 non-null    float64\n",
      " 7   Cabin     891 non-null    int64  \n",
      " 8   Embarked  891 non-null    int64  \n",
      "dtypes: float64(2), int64(7)\n",
      "memory usage: 62.8 KB\n",
      "Displaying the info for all columns for sanity check:  None\n",
      "Printing the modified dataset:\n",
      "    Survived  Pclass  Sex   Age  SibSp  Parch     Fare  Cabin  Embarked\n",
      "0         0       3    1  22.0      1      0   7.2500      0         1\n",
      "1         1       1    2  38.0      1      0  71.2833      2         2\n",
      "2         1       3    2  26.0      0      0   7.9250      0         1\n",
      "3         1       1    2  35.0      1      0  53.1000      2         1\n",
      "4         0       3    1  35.0      0      0   8.0500      0         1\n"
     ]
    },
    {
     "name": "stderr",
     "output_type": "stream",
     "text": [
      "C:\\Users\\SHWETA~1\\AppData\\Local\\Temp/ipykernel_1924/2246013458.py:8: SettingWithCopyWarning: \n",
      "A value is trying to be set on a copy of a slice from a DataFrame\n",
      "\n",
      "See the caveats in the documentation: https://pandas.pydata.org/pandas-docs/stable/user_guide/indexing.html#returning-a-view-versus-a-copy\n",
      "  data['Cabin'][i] = string[0]\n"
     ]
    }
   ],
   "source": [
    "#As we can see, the 'Age' column is now non-null. We can see that we have 3 object type features that we need to convert\n",
    "#numercial values. However, in 'Cabin' we can clearly see that most cabin numbers are different, but their first letter shows\n",
    "#which deck they are in, which is obviously a feature that can strongly predict the survivalhood. We will take the first letter\n",
    "#and replace the corresponding value in the dataset.\n",
    "\n",
    "for i in range(891):\n",
    "    string = data['Cabin'][i]\n",
    "    data['Cabin'][i] = string[0]\n",
    "\n",
    "num_change = 0\n",
    "for (columnName, columnData) in data.iteritems():\n",
    "    if(data.dtypes[columnName]==object):\n",
    "        num_change += 1\n",
    "        count = 1\n",
    "        dictionary = {}\n",
    "        for i in range(891):\n",
    "            if(dictionary.get(columnData[i])==None):\n",
    "                if(columnData[i]=='0'): dictionary[columnData[i]] = 0\n",
    "                else: dictionary[columnData[i]] = count\n",
    "                count += 1\n",
    "            else: continue\n",
    "        data[columnName] = data[columnName].replace(dictionary)\n",
    "print(\"The number of changes made to the dataset:\", num_change)\n",
    "print(\"Displaying the info for all columns for sanity check: \", data.info())\n",
    "print(\"Printing the modified dataset:\\n\", data.head())"
   ]
  },
  {
   "cell_type": "code",
   "execution_count": 6,
   "id": "cd30daa7",
   "metadata": {},
   "outputs": [
    {
     "name": "stdout",
     "output_type": "stream",
     "text": [
      "The dimensions of the training sets are: (713, 8) (713, 1)\n",
      "The dimensions of the training sets are: (178, 8) (178, 1)\n"
     ]
    }
   ],
   "source": [
    "#Having successfully pre-processed the data, we can now proceed with the next stage, which is splitting this dataset into\n",
    "#two parts, training and testing set in 80%-20% configuration.\n",
    "\n",
    "xtrain = data[:713]\n",
    "ytrain = np.array(xtrain['Survived']).reshape(713, 1)\n",
    "del xtrain['Survived']\n",
    "print(\"The dimensions of the training sets are:\", xtrain.shape, ytrain.shape)\n",
    "\n",
    "xtest = data[713:]\n",
    "ytest = np.array(xtest['Survived']).reshape(178, 1)\n",
    "del xtest['Survived']\n",
    "print(\"The dimensions of the training sets are:\", xtest.shape, ytest.shape)"
   ]
  },
  {
   "cell_type": "code",
   "execution_count": 7,
   "id": "c870ad60",
   "metadata": {},
   "outputs": [
    {
     "name": "stderr",
     "output_type": "stream",
     "text": [
      "C:\\Users\\SHWETA~1\\AppData\\Local\\Temp/ipykernel_1924/1828463240.py:6: SettingWithCopyWarning: \n",
      "A value is trying to be set on a copy of a slice from a DataFrame.\n",
      "Try using .loc[row_indexer,col_indexer] = value instead\n",
      "\n",
      "See the caveats in the documentation: https://pandas.pydata.org/pandas-docs/stable/user_guide/indexing.html#returning-a-view-versus-a-copy\n",
      "  if(X.std(axis=0)[i]!=0): X[columnName] = (X[columnName]-X.mean(axis=0)[i])/X.std(axis=0)[i]\n"
     ]
    },
    {
     "name": "stdout",
     "output_type": "stream",
     "text": [
      "The amended dataset becomes:\n",
      "      Pclass       Sex       Age     SibSp    Parch      Fare   Cabin  Embarked\n",
      "0  0.833679 -0.747923 -0.613714  0.443010 -0.46942 -0.519835 -0.4739 -0.575941\n",
      "1 -1.548738  1.335160  0.615649  0.443010 -0.46942  0.796531  0.4673  0.973667\n",
      "2  0.833679  1.335160 -0.306373 -0.497068 -0.46942 -0.505959 -0.4739 -0.575941\n",
      "3 -1.548738  1.335160  0.385144  0.443010 -0.46942  0.422727  0.4673 -0.575941\n",
      "4  0.833679 -0.747923  0.385144 -0.497068 -0.46942 -0.503389 -0.4739 -0.575941\n"
     ]
    }
   ],
   "source": [
    "#Feature scaling is required as 'Fare' and 'Age' are much bigger than the other int64 values in the training set. We will use\n",
    "#mean normalisation with standard deviation division.\n",
    "def normalise(X):\n",
    "    i = 0\n",
    "    for columnName, columnValue in X.iteritems():\n",
    "        if(X.std(axis=0)[i]!=0): X[columnName] = (X[columnName]-X.mean(axis=0)[i])/X.std(axis=0)[i]\n",
    "        i +=1\n",
    "\n",
    "normalise(xtrain)\n",
    "print(\"The amended dataset becomes:\\n\", xtrain.head())"
   ]
  },
  {
   "cell_type": "code",
   "execution_count": 8,
   "id": "b975ee7b",
   "metadata": {},
   "outputs": [],
   "source": [
    "#We now need to append the bias column of ones for training the model.\n",
    "\n",
    "X0train = np.ones(len(xtrain)).reshape(713, 1)\n",
    "Xtrain = np.append(X0train, xtrain, axis=1).reshape(713, 9)"
   ]
  },
  {
   "cell_type": "code",
   "execution_count": 9,
   "id": "56837cac",
   "metadata": {},
   "outputs": [],
   "source": [
    "#Here we define the sigmoid function, cost function [with regularization] and the gradient descent function.\n",
    "\n",
    "def sigmoid(a):\n",
    "    e = 2.718281828459045\n",
    "    return 1/(1+e**(-a))\n",
    "\n",
    "def computeCost(X, y, theta, lambda1):\n",
    "    theta1 = np.array(theta)\n",
    "    theta1[0] = 0\n",
    "    J = ((-1/m)*(np.sum((ytrain.transpose() @ np.log10(sigmoid(X @ theta))) + ((1-y.transpose()) @ np.log10(1-sigmoid(X @ theta)))))) + (lambda1/(2*m)*np.sum(np.square(theta1)))\n",
    "    return J;\n",
    "\n",
    "def gradientDescent(X, y, theta, alpha, lambda1, iterations, m):\n",
    "    J_history = np.zeros(iterations).reshape(iterations, 1)\n",
    "    for iter in range(iterations):\n",
    "        theta1 = np.array(theta)\n",
    "        theta1[0] = 0\n",
    "        theta = theta - (alpha/m)*((X.transpose() @ (sigmoid(X @ theta)-y))+(lambda1*theta1))\n",
    "        J_history[iter] = computeCost(X, y, theta, lambda1)\n",
    "    return [theta, J_history]"
   ]
  },
  {
   "cell_type": "code",
   "execution_count": 10,
   "id": "45c5a984",
   "metadata": {},
   "outputs": [
    {
     "name": "stdout",
     "output_type": "stream",
     "text": [
      "Cost when the parameters are zeros: 0.3010299956639812\n"
     ]
    }
   ],
   "source": [
    "m = 713\n",
    "lambda1 = 1\n",
    "theta = np.zeros(9).reshape(9, 1)\n",
    "print(\"Cost when the parameters are zeros:\", computeCost(Xtrain, ytrain, theta, lambda1))"
   ]
  },
  {
   "cell_type": "code",
   "execution_count": 11,
   "id": "5c98414e",
   "metadata": {},
   "outputs": [
    {
     "name": "stdout",
     "output_type": "stream",
     "text": [
      "The final cost value is: 0.19598021838587754\n"
     ]
    }
   ],
   "source": [
    "#Now we will train the model using the parameters shown below.\n",
    "\n",
    "theta = np.zeros(9).reshape(9, 1)\n",
    "alpha, lambda1, iterations, m = 0.05, 0.5, 2000, 713\n",
    "\n",
    "returned = gradientDescent(Xtrain, ytrain, theta, alpha, lambda1, iterations, m)\n",
    "theta = returned[0]\n",
    "J_history = returned[1]\n",
    "print(\"The final cost value is:\", computeCost(Xtrain, ytrain, theta, lambda1))"
   ]
  },
  {
   "cell_type": "code",
   "execution_count": 12,
   "id": "638fb891",
   "metadata": {},
   "outputs": [
    {
     "data": {
      "text/plain": [
       "[<matplotlib.lines.Line2D at 0x24ddac51210>]"
      ]
     },
     "execution_count": 12,
     "metadata": {},
     "output_type": "execute_result"
    },
    {
     "data": {
      "image/png": "[encoded data removed]",
      "text/plain": [
       "<Figure size 432x288 with 1 Axes>"
      ]
     },
     "metadata": {
      "needs_background": "light"
     },
     "output_type": "display_data"
    }
   ],
   "source": [
    "#We will also plot the value of the cost function after each iteration, to see the value reach a minimum and converge to a\n",
    "#stabalised value.\n",
    "plt.xlabel('Iterations')\n",
    "plt.ylabel('Cost function history')\n",
    "plt.plot(range(2000), J_history)"
   ]
  },
  {
   "cell_type": "code",
   "execution_count": 13,
   "id": "710ce667",
   "metadata": {},
   "outputs": [
    {
     "name": "stdout",
     "output_type": "stream",
     "text": [
      "The accuracy percentage is: 83.14606741573034\n"
     ]
    },
    {
     "name": "stderr",
     "output_type": "stream",
     "text": [
      "C:\\Users\\SHWETA~1\\AppData\\Local\\Temp/ipykernel_1924/1828463240.py:6: SettingWithCopyWarning: \n",
      "A value is trying to be set on a copy of a slice from a DataFrame.\n",
      "Try using .loc[row_indexer,col_indexer] = value instead\n",
      "\n",
      "See the caveats in the documentation: https://pandas.pydata.org/pandas-docs/stable/user_guide/indexing.html#returning-a-view-versus-a-copy\n",
      "  if(X.std(axis=0)[i]!=0): X[columnName] = (X[columnName]-X.mean(axis=0)[i])/X.std(axis=0)[i]\n"
     ]
    }
   ],
   "source": [
    "#As we can see, the model has converged into a constant value, that means our regression model is created sucessfully.\n",
    "#Let's compare the results with the actual values. We will consider our test set and compare our training model values\n",
    "#with the the original. We will check for our accuracy percentage on the test set.\n",
    "\n",
    "X0test = np.ones(len(xtest)).reshape(178, 1)\n",
    "normalise(xtest)\n",
    "Xtest = np.append(X0test, xtest, axis=1).reshape(178, 9)\n",
    "prediction_real = sigmoid(Xtest @ theta)\n",
    "prediction = np.zeros(len(xtest)).reshape(178, 1)\n",
    "accuracy = np.zeros(len(xtest)).reshape(178, 1)\n",
    "for i in range(178):\n",
    "    if(prediction_real[i]>0.7): prediction[i] = 1\n",
    "for i in range(178):\n",
    "    if(prediction[i]==ytest[i]): accuracy[i] = 1\n",
    "print(\"The accuracy percentage is:\", accuracy.mean()*100)"
   ]
  },
  {
   "cell_type": "markdown",
   "id": "0064a277",
   "metadata": {},
   "source": [
    "We have successfully predicted accurately for about 83% of the passengers in the test set, which is a good score. We didn't make use of multivariate logistic regression, which could make the algorithm slightly more accurate.\n",
    "\n",
    "Another thing to realise is that many of the features many not have collinearity with the target variable [Survived] and hence, those features may confuse the model, making it more inaccurate. Checking each feature with the target variable to access whether is relevant or not needs to be done.\n",
    "\n",
    "Certain considerations were not given, such as while replacing NaN in age, mean of the entire set was taken, while we could have taken the mean in relation to the class [it takes more time to build wealth, which means mean of age in first class is probably more than mean of third class] and the age of each of of the sex in each class [women are usually younger]. The colinearity of the features with the targest variable was not tested either."
   ]
  },
  {
   "cell_type": "code",
   "execution_count": null,
   "id": "f8352167",
   "metadata": {},
   "outputs": [],
   "source": []
  }
 ],
 "metadata": {
  "kernelspec": {
   "display_name": "Python 3 (ipykernel)",
   "language": "python",
   "name": "python3"
  },
  "language_info": {
   "codemirror_mode": {
    "name": "ipython",
    "version": 3
   },
   "file_extension": ".py",
   "mimetype": "text/x-python",
   "name": "python",
   "nbconvert_exporter": "python",
   "pygments_lexer": "ipython3",
   "version": "3.10.0"
  }
 },
 "nbformat": 4,
 "nbformat_minor": 5
}
