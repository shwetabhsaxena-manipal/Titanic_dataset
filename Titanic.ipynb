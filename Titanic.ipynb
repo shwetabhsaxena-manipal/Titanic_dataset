{
 "cells": [
  {
   "cell_type": "markdown",
   "id": "8c8b828a",
   "metadata": {},
   "source": [
    "# The Titanic dataset\n",
    "\n",
    "Here, we will predict whether or not the passenger will survive based on input features in the Titanic situation, taken from Kaggle. We will use \"train.csv\" for training and testing purposes, using logistic regression with regularization."
   ]
  },
  {
   "cell_type": "code",
   "execution_count": 149,
   "id": "765dc8ee",
   "metadata": {},
   "outputs": [
    {
     "name": "stdout",
     "output_type": "stream",
     "text": [
      "Printing the first five training examples from the dataset:\n",
      "    PassengerId  Survived  Pclass  \\\n",
      "0            1         0       3   \n",
      "1            2         1       1   \n",
      "2            3         1       3   \n",
      "3            4         1       1   \n",
      "4            5         0       3   \n",
      "\n",
      "                                                Name     Sex   Age  SibSp  \\\n",
      "0                            Braund, Mr. Owen Harris    male  22.0      1   \n",
      "1  Cumings, Mrs. John Bradley (Florence Briggs Th...  female  38.0      1   \n",
      "2                             Heikkinen, Miss. Laina  female  26.0      0   \n",
      "3       Futrelle, Mrs. Jacques Heath (Lily May Peel)  female  35.0      1   \n",
      "4                           Allen, Mr. William Henry    male  35.0      0   \n",
      "\n",
      "   Parch            Ticket     Fare Cabin Embarked  \n",
      "0      0         A/5 21171   7.2500   NaN        S  \n",
      "1      0          PC 17599  71.2833   C85        C  \n",
      "2      0  STON/O2. 3101282   7.9250   NaN        S  \n",
      "3      0            113803  53.1000  C123        S  \n",
      "4      0            373450   8.0500   NaN        S  \n",
      "The dimensions of the dataset are: (891, 12)\n"
     ]
    }
   ],
   "source": [
    "#Importing relevant libraries\n",
    "import numpy as np\n",
    "import pandas as pd\n",
    "import matplotlib.pyplot as plt\n",
    "\n",
    "data = pd.read_csv(\"train.csv\")\n",
    "print(\"Printing the first five training examples from the dataset:\\n\", data.head())\n",
    "print(\"The dimensions of the dataset are:\", data.shape)"
   ]
  },
  {
   "cell_type": "code",
   "execution_count": 150,
   "id": "5d78df76",
   "metadata": {},
   "outputs": [
    {
     "name": "stderr",
     "output_type": "stream",
     "text": [
      "C:\\Users\\SHWETA~1\\AppData\\Local\\Temp/ipykernel_8940/3577349845.py:9: SettingWithCopyWarning: \n",
      "A value is trying to be set on a copy of a slice from a DataFrame\n",
      "\n",
      "See the caveats in the documentation: https://pandas.pydata.org/pandas-docs/stable/user_guide/indexing.html#returning-a-view-versus-a-copy\n",
      "  data['Cabin'][i] = string[0]\n"
     ]
    },
    {
     "name": "stdout",
     "output_type": "stream",
     "text": [
      "Survived y/n for amending:\n",
      "n\n",
      "Pclass y/n for amending:\n",
      "n\n",
      "Sex y/n for amending:\n",
      "y\n",
      "{'male': 1, 'female': 2}\n",
      "Age y/n for amending:\n",
      "n\n",
      "SibSp y/n for amending:\n",
      "n\n",
      "Parch y/n for amending:\n",
      "n\n",
      "Fare y/n for amending:\n",
      "n\n",
      "Cabin y/n for amending:\n",
      "y\n",
      "{'Z': 1, 'C': 2, 'E': 3, 'G': 4, 'D': 5, 'A': 6, 'B': 7, 'F': 8, 'T': 9}\n",
      "Embarked y/n for amending:\n",
      "y\n",
      "{'S': 1, 'C': 2, 'Q': 3, nan: 4}\n",
      "Final dataset processed:\n",
      "    Survived  Pclass  Sex   Age  SibSp  Parch     Fare  Cabin  Embarked\n",
      "0         0       3    1  22.0      1      0   7.2500      1         1\n",
      "1         1       1    2  38.0      1      0  71.2833      2         2\n",
      "2         1       3    2  26.0      0      0   7.9250      1         1\n",
      "3         1       1    2  35.0      1      0  53.1000      2         1\n",
      "4         0       3    1  35.0      0      0   8.0500      1         1\n"
     ]
    }
   ],
   "source": [
    "#It is obvious that some of the features are irrelevant to the regression analysis, namely passengerId, name and ticket\n",
    "del data['PassengerId'], data['Name'], data['Ticket']\n",
    "data['Cabin'] = data['Cabin'].fillna('Z')\n",
    "\n",
    "#For cabin, we can just convert which series of rooms they belonged to, like A, B, C, etc, and the NaN values are replaced with\n",
    "#Z, and these values will then be mapped to the corresponding number. Other columns need to mapped as well.\n",
    "for i in range(891):\n",
    "    string = data['Cabin'][i]\n",
    "    data['Cabin'][i] = string[0]\n",
    "for (columnName, columnData) in data.iteritems():\n",
    "    print(columnName, \"y/n for amending:\")\n",
    "    string = input()\n",
    "    if(string==\"y\"):\n",
    "        count = 1\n",
    "        dictionary = {}\n",
    "        for i in range(891):\n",
    "            if(dictionary.get(columnData[i])==None):\n",
    "                dictionary[columnData[i]] = count\n",
    "                count += 1\n",
    "            else: continue\n",
    "        print(dictionary)\n",
    "        data[columnName] = data[columnName].replace(dictionary)\n",
    "print(\"Final dataset processed:\\n\", data.head())"
   ]
  },
  {
   "cell_type": "code",
   "execution_count": 151,
   "id": "f783defe",
   "metadata": {},
   "outputs": [
    {
     "name": "stdout",
     "output_type": "stream",
     "text": [
      "Checking for any NaN values: True\n",
      "Checking for any NaN values: False\n",
      "The amended dimensions are: (714, 9)\n",
      "The dimensions for training set for features and for survival are: (571, 8) (571, 1)\n",
      "The dimensions for training set for features and for survival are: (143, 8) (143, 1)\n"
     ]
    }
   ],
   "source": [
    "#Now that data preprocessing is finished, we can simply split our dataset into training and test set with 80%-20% configuration\n",
    "#and feature scaling isn't neccessary, as the features are well within each other's range.\n",
    "\n",
    "print(\"Checking for any NaN values:\", data.isnull().values.any())\n",
    "data_copy = data.dropna()\n",
    "print(\"Checking for any NaN values:\", data_copy.isnull().values.any())\n",
    "print(\"The amended dimensions are:\", data_copy.shape)\n",
    "\n",
    "train = data_copy[:571]\n",
    "xtrain = train\n",
    "ytrain = np.array(xtrain['Survived']).reshape(571, 1)\n",
    "del xtrain['Survived']\n",
    "print(\"The dimensions for training set for features and for survival are:\", xtrain.shape, ytrain.shape)\n",
    "test = data_copy[571:]\n",
    "xtest = test\n",
    "ytest = np.array(xtest['Survived']).reshape(143, 1)\n",
    "del xtest['Survived']\n",
    "print(\"The dimensions for training set for features and for survival are:\", xtest.shape, ytest.shape)"
   ]
  },
  {
   "cell_type": "code",
   "execution_count": 152,
   "id": "ebc6e902",
   "metadata": {},
   "outputs": [],
   "source": [
    "#adding a column of ones to the training set\n",
    "X0train = np.ones(len(xtrain)).reshape(571, 1)\n",
    "Xtrain = np.append(X0train, xtrain, axis=1).reshape(571, 9)"
   ]
  },
  {
   "cell_type": "code",
   "execution_count": 153,
   "id": "94013a9a",
   "metadata": {},
   "outputs": [],
   "source": [
    "#Defining the sigmoid function\n",
    "e = 2.718281828459045\n",
    "def sigmoid(a):\n",
    "    return 1/(1+e**(-a))\n",
    "\n",
    "#Creating the cost function\n",
    "def computeCost(X, y, theta):\n",
    "    J = (-1/m)*((y.transpose() @ np.log10(sigmoid(X @ theta))) + ((1-y).transpose() @ np.log10(sigmoid(1-(X @ theta)))))\n",
    "    return J[0][0];"
   ]
  },
  {
   "cell_type": "code",
   "execution_count": 154,
   "id": "c59658f3",
   "metadata": {},
   "outputs": [
    {
     "name": "stdout",
     "output_type": "stream",
     "text": [
      "For theta initialised to zeros the cost is: 0.20365873046238722\n"
     ]
    }
   ],
   "source": [
    "#Creating the gradient descent function\n",
    "alpha = 0.0003\n",
    "iterations = 10000 #We will run our gradient descent for these iterations\n",
    "m = 571\n",
    "theta = np.zeros((9, 1))\n",
    "print('For theta initialised to zeros the cost is:', computeCost(Xtrain, ytrain, theta))\n",
    "def gradientDescent(X, y, theta, alpha, iterations, m):\n",
    "    J_history = np.zeros(iterations).reshape(iterations, 1)\n",
    "    for iter in range(iterations):\n",
    "        theta = theta - ((alpha/m)*(X.transpose() @ ((X @ theta)-y)))\n",
    "        J_history[iter] = computeCost(X, y, theta)\n",
    "    return [theta, J_history]\n",
    "\n",
    "returned = gradientDescent(Xtrain, ytrain, theta, alpha, iterations, m)\n",
    "theta = returned[0]\n",
    "J_history = returned[1]"
   ]
  },
  {
   "cell_type": "code",
   "execution_count": 155,
   "id": "c8d24279",
   "metadata": {},
   "outputs": [
    {
     "data": {
      "text/plain": [
       "[<matplotlib.lines.Line2D at 0x25c16911120>]"
      ]
     },
     "execution_count": 155,
     "metadata": {},
     "output_type": "execute_result"
    },
    {
     "data": {
      "image/png": "[encoded data removed]",
      "text/plain": [
       "<Figure size 432x288 with 1 Axes>"
      ]
     },
     "metadata": {
      "needs_background": "light"
     },
     "output_type": "display_data"
    }
   ],
   "source": [
    "#We will also plot the value of the cost function after each iteration, to see if the value reach a minimum and converge to a\n",
    "#stabalised value\n",
    "plt.xlabel('Iterations')\n",
    "plt.ylabel('Cost function history')\n",
    "plt.plot(range(10000), J_history)"
   ]
  },
  {
   "cell_type": "code",
   "execution_count": 156,
   "id": "494b486a",
   "metadata": {},
   "outputs": [
    {
     "name": "stdout",
     "output_type": "stream",
     "text": [
      "[[False]\n",
      " [ True]\n",
      " [False]\n",
      " [False]\n",
      " [False]\n",
      " [ True]\n",
      " [False]\n",
      " [ True]\n",
      " [False]\n",
      " [False]\n",
      " [ True]\n",
      " [False]\n",
      " [False]\n",
      " [False]\n",
      " [False]\n",
      " [False]\n",
      " [ True]\n",
      " [False]\n",
      " [ True]\n",
      " [False]\n",
      " [ True]\n",
      " [False]\n",
      " [False]\n",
      " [ True]\n",
      " [False]\n",
      " [False]\n",
      " [ True]\n",
      " [ True]\n",
      " [False]\n",
      " [False]\n",
      " [ True]\n",
      " [ True]\n",
      " [False]\n",
      " [False]\n",
      " [False]\n",
      " [ True]\n",
      " [False]\n",
      " [ True]\n",
      " [ True]\n",
      " [False]\n",
      " [ True]\n",
      " [False]\n",
      " [False]\n",
      " [False]\n",
      " [False]\n",
      " [False]\n",
      " [ True]\n",
      " [False]\n",
      " [ True]\n",
      " [ True]\n",
      " [ True]\n",
      " [ True]\n",
      " [False]\n",
      " [False]\n",
      " [False]\n",
      " [ True]\n",
      " [False]\n",
      " [ True]\n",
      " [False]\n",
      " [False]\n",
      " [False]\n",
      " [False]\n",
      " [ True]\n",
      " [ True]\n",
      " [False]\n",
      " [False]\n",
      " [False]\n",
      " [ True]\n",
      " [ True]\n",
      " [ True]\n",
      " [ True]\n",
      " [False]\n",
      " [False]\n",
      " [False]\n",
      " [False]\n",
      " [ True]\n",
      " [False]\n",
      " [False]\n",
      " [False]\n",
      " [False]\n",
      " [False]\n",
      " [False]\n",
      " [False]\n",
      " [False]\n",
      " [False]\n",
      " [ True]\n",
      " [ True]\n",
      " [False]\n",
      " [ True]\n",
      " [False]\n",
      " [ True]\n",
      " [ True]\n",
      " [ True]\n",
      " [ True]\n",
      " [False]\n",
      " [False]\n",
      " [ True]\n",
      " [False]\n",
      " [ True]\n",
      " [False]\n",
      " [False]\n",
      " [ True]\n",
      " [False]\n",
      " [False]\n",
      " [False]\n",
      " [False]\n",
      " [False]\n",
      " [False]\n",
      " [False]\n",
      " [False]\n",
      " [ True]\n",
      " [False]\n",
      " [ True]\n",
      " [ True]\n",
      " [ True]\n",
      " [ True]\n",
      " [False]\n",
      " [False]\n",
      " [ True]\n",
      " [False]\n",
      " [ True]\n",
      " [ True]\n",
      " [False]\n",
      " [ True]\n",
      " [False]\n",
      " [ True]\n",
      " [False]\n",
      " [False]\n",
      " [ True]\n",
      " [ True]\n",
      " [False]\n",
      " [False]\n",
      " [ True]\n",
      " [ True]\n",
      " [False]\n",
      " [False]\n",
      " [False]\n",
      " [False]\n",
      " [False]\n",
      " [False]\n",
      " [ True]\n",
      " [ True]\n",
      " [False]]\n"
     ]
    }
   ],
   "source": [
    "#As we can see, the model has converged into a constant value, that means our regression model is created sucessfully.\n",
    "#Let's compare the results with the actual values.\n",
    "#We will consider our test set and compare our training model values with the the original.\n",
    "\n",
    "X0test = np.ones(len(xtest)).reshape(143, 1) #creating the X0 rows on 1s\n",
    "Xtest = np.append(X0test, xtest, axis=1).reshape(143, 9) #Creating the final X features array\n",
    "prediction = sigmoid(Xtest @ theta)>0.5\n",
    "ytest = ytest==1\n",
    "#print('The values for each of the test set examples in an array is:\\n', prediction)\n",
    "#print('Comparing the original values in our test set:\\n', ytest)\n",
    "print(prediction & ytest)"
   ]
  },
  {
   "cell_type": "code",
   "execution_count": null,
   "id": "7fe569bd",
   "metadata": {},
   "outputs": [],
   "source": []
  }
 ],
 "metadata": {
  "kernelspec": {
   "display_name": "Python 3 (ipykernel)",
   "language": "python",
   "name": "python3"
  },
  "language_info": {
   "codemirror_mode": {
    "name": "ipython",
    "version": 3
   },
   "file_extension": ".py",
   "mimetype": "text/x-python",
   "name": "python",
   "nbconvert_exporter": "python",
   "pygments_lexer": "ipython3",
   "version": "3.10.0"
  }
 },
 "nbformat": 4,
 "nbformat_minor": 5
}
